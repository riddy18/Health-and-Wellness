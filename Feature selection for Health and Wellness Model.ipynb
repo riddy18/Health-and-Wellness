{
 "cells": [
  {
   "cell_type": "markdown",
   "metadata": {},
   "source": [
    "Feature engineering to select the best features for the health and wellness classifier."
   ]
  },
  {
   "cell_type": "code",
   "execution_count": 1,
   "metadata": {},
   "outputs": [],
   "source": [
    "import pandas as pd\n",
    "import numpy as np\n",
    "import matplotlib.pyplot as plt"
   ]
  },
  {
   "cell_type": "code",
   "execution_count": 2,
   "metadata": {},
   "outputs": [],
   "source": [
    "import sklearn.preprocessing as preprocessing\n",
    "from sklearn.model_selection import train_test_split\n",
    "import sklearn.metrics as metrics\n",
    "from sklearn.feature_selection import RFE, f_regression\n",
    "from sklearn.linear_model import (LinearRegression, Ridge, Lasso)\n",
    "from sklearn import preprocessing\n",
    "from sklearn.feature_selection import RFECV\n",
    "from sklearn.preprocessing import MinMaxScaler"
   ]
  },
  {
   "cell_type": "code",
   "execution_count": 3,
   "metadata": {},
   "outputs": [],
   "source": [
    "selected = pd.read_csv('base_final.csv')"
   ]
  },
  {
   "cell_type": "code",
   "execution_count": 4,
   "metadata": {
    "scrolled": true
   },
   "outputs": [
    {
     "data": {
      "text/plain": [
       "['Max AQI',\n",
       " '90th Percentile AQI',\n",
       " 'Median AQI',\n",
       " 'BED_UTILIZATION',\n",
       " 'WA_MALE',\n",
       " 'WA_FEMALE',\n",
       " 'BA_MALE',\n",
       " 'BA_FEMALE',\n",
       " 'IA_MALE',\n",
       " 'IA_FEMALE',\n",
       " 'AA_MALE',\n",
       " 'AA_FEMALE',\n",
       " 'NA_MALE',\n",
       " 'NA_FEMALE',\n",
       " 'HLTHOUTArthritis',\n",
       " 'HLTHOUTCOPD',\n",
       " 'HLTHOUTCancer (except skin)',\n",
       " 'HLTHOUTChronic Kidney Disease',\n",
       " 'HLTHOUTCoronary Heart Disease',\n",
       " 'HLTHOUTCurrent Asthma',\n",
       " 'HLTHOUTDiabetes',\n",
       " 'HLTHOUTMental Health',\n",
       " 'HLTHOUTPhysical Health',\n",
       " 'HLTHOUTStroke',\n",
       " 'HLTHOUTTeeth Loss',\n",
       " 'PREVENTAnnual Checkup',\n",
       " 'PREVENTCervical Cancer Screening',\n",
       " 'PREVENTColorectal Cancer Screening',\n",
       " 'PREVENTCore preventive services for older men',\n",
       " 'PREVENTCore preventive services for older women',\n",
       " 'PREVENTDental Visit',\n",
       " 'PREVENTHealth Insurance',\n",
       " 'PREVENTMammography',\n",
       " 'UNHBEHBinge Drinking',\n",
       " 'UNHBEHCurrent Smoking',\n",
       " 'UNHBEHObesity',\n",
       " 'UNHBEHPhysical Inactivity',\n",
       " 'UNHBEHSleep <7 hours',\n",
       " 'noise_mean',\n",
       " 'case_fatality',\n",
       " 'PCTUI_Pov',\n",
       " 'Pov%',\n",
       " 'OTHER_MALE',\n",
       " 'OTHER_FEMALE']"
      ]
     },
     "execution_count": 4,
     "metadata": {},
     "output_type": "execute_result"
    }
   ],
   "source": [
    "list(selected)"
   ]
  },
  {
   "cell_type": "code",
   "execution_count": 5,
   "metadata": {},
   "outputs": [
    {
     "data": {
      "text/plain": [
       "(3142, 44)"
      ]
     },
     "execution_count": 5,
     "metadata": {},
     "output_type": "execute_result"
    }
   ],
   "source": [
    "selected.shape"
   ]
  },
  {
   "cell_type": "code",
   "execution_count": 6,
   "metadata": {},
   "outputs": [
    {
     "data": {
      "text/html": [
       "<div>\n",
       "<style scoped>\n",
       "    .dataframe tbody tr th:only-of-type {\n",
       "        vertical-align: middle;\n",
       "    }\n",
       "\n",
       "    .dataframe tbody tr th {\n",
       "        vertical-align: top;\n",
       "    }\n",
       "\n",
       "    .dataframe thead th {\n",
       "        text-align: right;\n",
       "    }\n",
       "</style>\n",
       "<table border=\"1\" class=\"dataframe\">\n",
       "  <thead>\n",
       "    <tr style=\"text-align: right;\">\n",
       "      <th></th>\n",
       "      <th>Max AQI</th>\n",
       "      <th>90th Percentile AQI</th>\n",
       "      <th>Median AQI</th>\n",
       "      <th>BED_UTILIZATION</th>\n",
       "      <th>WA_MALE</th>\n",
       "      <th>WA_FEMALE</th>\n",
       "      <th>BA_MALE</th>\n",
       "      <th>BA_FEMALE</th>\n",
       "      <th>IA_MALE</th>\n",
       "      <th>IA_FEMALE</th>\n",
       "      <th>...</th>\n",
       "      <th>UNHBEHCurrent Smoking</th>\n",
       "      <th>UNHBEHObesity</th>\n",
       "      <th>UNHBEHPhysical Inactivity</th>\n",
       "      <th>UNHBEHSleep &lt;7 hours</th>\n",
       "      <th>noise_mean</th>\n",
       "      <th>case_fatality</th>\n",
       "      <th>PCTUI_Pov</th>\n",
       "      <th>Pov%</th>\n",
       "      <th>OTHER_MALE</th>\n",
       "      <th>OTHER_FEMALE</th>\n",
       "    </tr>\n",
       "  </thead>\n",
       "  <tbody>\n",
       "    <tr>\n",
       "      <th>0</th>\n",
       "      <td>NaN</td>\n",
       "      <td>NaN</td>\n",
       "      <td>NaN</td>\n",
       "      <td>0.623113</td>\n",
       "      <td>20878.0</td>\n",
       "      <td>21729.0</td>\n",
       "      <td>5237.0</td>\n",
       "      <td>6000.0</td>\n",
       "      <td>121.0</td>\n",
       "      <td>145.0</td>\n",
       "      <td>...</td>\n",
       "      <td>19.8</td>\n",
       "      <td>35.5</td>\n",
       "      <td>26.4</td>\n",
       "      <td>38.4</td>\n",
       "      <td>86.665211</td>\n",
       "      <td>0.011949</td>\n",
       "      <td>20.0</td>\n",
       "      <td>0.201781</td>\n",
       "      <td>538.0</td>\n",
       "      <td>507.0</td>\n",
       "    </tr>\n",
       "    <tr>\n",
       "      <th>1</th>\n",
       "      <td>74.0</td>\n",
       "      <td>48.0</td>\n",
       "      <td>37.0</td>\n",
       "      <td>2.254794</td>\n",
       "      <td>94810.0</td>\n",
       "      <td>100388.0</td>\n",
       "      <td>9486.0</td>\n",
       "      <td>10107.0</td>\n",
       "      <td>903.0</td>\n",
       "      <td>839.0</td>\n",
       "      <td>...</td>\n",
       "      <td>18.5</td>\n",
       "      <td>29.4</td>\n",
       "      <td>23.5</td>\n",
       "      <td>36.4</td>\n",
       "      <td>47.636945</td>\n",
       "      <td>0.012346</td>\n",
       "      <td>25.7</td>\n",
       "      <td>0.182297</td>\n",
       "      <td>2042.0</td>\n",
       "      <td>2125.0</td>\n",
       "    </tr>\n",
       "    <tr>\n",
       "      <th>2</th>\n",
       "      <td>NaN</td>\n",
       "      <td>NaN</td>\n",
       "      <td>NaN</td>\n",
       "      <td>0.430640</td>\n",
       "      <td>6389.0</td>\n",
       "      <td>5745.0</td>\n",
       "      <td>6311.0</td>\n",
       "      <td>5595.0</td>\n",
       "      <td>103.0</td>\n",
       "      <td>67.0</td>\n",
       "      <td>...</td>\n",
       "      <td>25.5</td>\n",
       "      <td>40.8</td>\n",
       "      <td>36.8</td>\n",
       "      <td>40.9</td>\n",
       "      <td>64.315150</td>\n",
       "      <td>0.021254</td>\n",
       "      <td>18.5</td>\n",
       "      <td>0.378581</td>\n",
       "      <td>172.0</td>\n",
       "      <td>136.0</td>\n",
       "    </tr>\n",
       "    <tr>\n",
       "      <th>3</th>\n",
       "      <td>NaN</td>\n",
       "      <td>NaN</td>\n",
       "      <td>NaN</td>\n",
       "      <td>0.376219</td>\n",
       "      <td>8766.0</td>\n",
       "      <td>8425.0</td>\n",
       "      <td>2941.0</td>\n",
       "      <td>1822.0</td>\n",
       "      <td>53.0</td>\n",
       "      <td>50.0</td>\n",
       "      <td>...</td>\n",
       "      <td>23.1</td>\n",
       "      <td>38.4</td>\n",
       "      <td>31.2</td>\n",
       "      <td>40.1</td>\n",
       "      <td>58.173180</td>\n",
       "      <td>0.022697</td>\n",
       "      <td>17.5</td>\n",
       "      <td>0.265817</td>\n",
       "      <td>124.0</td>\n",
       "      <td>139.0</td>\n",
       "    </tr>\n",
       "    <tr>\n",
       "      <th>4</th>\n",
       "      <td>NaN</td>\n",
       "      <td>NaN</td>\n",
       "      <td>NaN</td>\n",
       "      <td>0.499069</td>\n",
       "      <td>27258.0</td>\n",
       "      <td>28154.0</td>\n",
       "      <td>516.0</td>\n",
       "      <td>462.0</td>\n",
       "      <td>192.0</td>\n",
       "      <td>178.0</td>\n",
       "      <td>...</td>\n",
       "      <td>23.0</td>\n",
       "      <td>33.7</td>\n",
       "      <td>30.1</td>\n",
       "      <td>38.8</td>\n",
       "      <td>54.338911</td>\n",
       "      <td>0.017038</td>\n",
       "      <td>25.2</td>\n",
       "      <td>0.227849</td>\n",
       "      <td>379.0</td>\n",
       "      <td>435.0</td>\n",
       "    </tr>\n",
       "  </tbody>\n",
       "</table>\n",
       "<p>5 rows × 44 columns</p>\n",
       "</div>"
      ],
      "text/plain": [
       "   Max AQI  90th Percentile AQI  Median AQI  BED_UTILIZATION  WA_MALE  \\\n",
       "0      NaN                  NaN         NaN         0.623113  20878.0   \n",
       "1     74.0                 48.0        37.0         2.254794  94810.0   \n",
       "2      NaN                  NaN         NaN         0.430640   6389.0   \n",
       "3      NaN                  NaN         NaN         0.376219   8766.0   \n",
       "4      NaN                  NaN         NaN         0.499069  27258.0   \n",
       "\n",
       "   WA_FEMALE  BA_MALE  BA_FEMALE  IA_MALE  IA_FEMALE      ...       \\\n",
       "0    21729.0   5237.0     6000.0    121.0      145.0      ...        \n",
       "1   100388.0   9486.0    10107.0    903.0      839.0      ...        \n",
       "2     5745.0   6311.0     5595.0    103.0       67.0      ...        \n",
       "3     8425.0   2941.0     1822.0     53.0       50.0      ...        \n",
       "4    28154.0    516.0      462.0    192.0      178.0      ...        \n",
       "\n",
       "   UNHBEHCurrent Smoking  UNHBEHObesity  UNHBEHPhysical Inactivity  \\\n",
       "0                   19.8           35.5                       26.4   \n",
       "1                   18.5           29.4                       23.5   \n",
       "2                   25.5           40.8                       36.8   \n",
       "3                   23.1           38.4                       31.2   \n",
       "4                   23.0           33.7                       30.1   \n",
       "\n",
       "   UNHBEHSleep <7 hours  noise_mean  case_fatality  PCTUI_Pov      Pov%  \\\n",
       "0                  38.4   86.665211       0.011949       20.0  0.201781   \n",
       "1                  36.4   47.636945       0.012346       25.7  0.182297   \n",
       "2                  40.9   64.315150       0.021254       18.5  0.378581   \n",
       "3                  40.1   58.173180       0.022697       17.5  0.265817   \n",
       "4                  38.8   54.338911       0.017038       25.2  0.227849   \n",
       "\n",
       "   OTHER_MALE  OTHER_FEMALE  \n",
       "0       538.0         507.0  \n",
       "1      2042.0        2125.0  \n",
       "2       172.0         136.0  \n",
       "3       124.0         139.0  \n",
       "4       379.0         435.0  \n",
       "\n",
       "[5 rows x 44 columns]"
      ]
     },
     "execution_count": 6,
     "metadata": {},
     "output_type": "execute_result"
    }
   ],
   "source": [
    "#view of the data\n",
    "selected.head(5)"
   ]
  },
  {
   "cell_type": "code",
   "execution_count": 7,
   "metadata": {},
   "outputs": [
    {
     "data": {
      "text/plain": [
       "Index(['Max AQI', '90th Percentile AQI', 'Median AQI', 'BED_UTILIZATION',\n",
       "       'WA_MALE', 'WA_FEMALE', 'BA_MALE', 'BA_FEMALE', 'IA_MALE', 'IA_FEMALE',\n",
       "       'AA_MALE', 'AA_FEMALE', 'NA_MALE', 'NA_FEMALE', 'HLTHOUTArthritis',\n",
       "       'HLTHOUTCOPD', 'HLTHOUTCancer (except skin)',\n",
       "       'HLTHOUTChronic Kidney Disease', 'HLTHOUTCoronary Heart Disease',\n",
       "       'HLTHOUTCurrent Asthma', 'HLTHOUTDiabetes', 'HLTHOUTMental Health',\n",
       "       'HLTHOUTPhysical Health', 'HLTHOUTStroke', 'HLTHOUTTeeth Loss',\n",
       "       'PREVENTAnnual Checkup', 'PREVENTCervical Cancer Screening',\n",
       "       'PREVENTColorectal Cancer Screening',\n",
       "       'PREVENTCore preventive services for older men',\n",
       "       'PREVENTCore preventive services for older women',\n",
       "       'PREVENTDental Visit', 'PREVENTHealth Insurance', 'PREVENTMammography',\n",
       "       'UNHBEHBinge Drinking', 'UNHBEHCurrent Smoking', 'UNHBEHObesity',\n",
       "       'UNHBEHPhysical Inactivity', 'UNHBEHSleep <7 hours', 'noise_mean',\n",
       "       'case_fatality', 'PCTUI_Pov', 'Pov%', 'OTHER_MALE', 'OTHER_FEMALE'],\n",
       "      dtype='object')"
      ]
     },
     "execution_count": 7,
     "metadata": {},
     "output_type": "execute_result"
    }
   ],
   "source": [
    "#columns of the dataset\n",
    "selected.columns"
   ]
  },
  {
   "cell_type": "code",
   "execution_count": 8,
   "metadata": {},
   "outputs": [],
   "source": [
    "#drop all rows with null values\n",
    "selected.dropna(axis =0, inplace =True)"
   ]
  },
  {
   "cell_type": "code",
   "execution_count": 9,
   "metadata": {},
   "outputs": [
    {
     "data": {
      "text/plain": [
       "0"
      ]
     },
     "execution_count": 9,
     "metadata": {},
     "output_type": "execute_result"
    }
   ],
   "source": [
    "selected['case_fatality'].isna().sum()"
   ]
  },
  {
   "cell_type": "code",
   "execution_count": 12,
   "metadata": {},
   "outputs": [
    {
     "name": "stderr",
     "output_type": "stream",
     "text": [
      "/opt/conda/lib/python3.6/site-packages/sklearn/preprocessing/data.py:323: DataConversionWarning: Data with input dtype float64, object were all converted to float64 by MinMaxScaler.\n",
      "  return self.partial_fit(X, y)\n"
     ]
    }
   ],
   "source": [
    "#normalization\n",
    "nor = preprocessing.MinMaxScaler()\n",
    "np_scale = nor.fit_transform(selected)\n",
    "#np_scale = nor.fit_transform(selected_1)\n",
    "selected = pd.DataFrame(np_scale, columns=selected.columns)"
   ]
  },
  {
   "cell_type": "code",
   "execution_count": 13,
   "metadata": {},
   "outputs": [],
   "source": [
    "#standardization\n",
    "names = selected.columns\n",
    "scaler = preprocessing.StandardScaler()\n",
    "scaled_selected = scaler.fit_transform(selected)\n",
    "selected = pd.DataFrame(scaled_selected, columns=selected.columns)"
   ]
  },
  {
   "cell_type": "code",
   "execution_count": 15,
   "metadata": {},
   "outputs": [],
   "source": [
    "dz = ['case_fatality', 'UNHBEHBinge Drinking','HLTHOUTPhysical Health', 'HLTHOUTTeeth Loss', 'HLTHOUTStroke', 'BED_UTILIZATION', 'PREVENTCervical Cancer Screening', '90th Percentile AQI','UNHBEHCurrent Smoking', 'HLTHOUTCOPD', 'NA_MALE']"
   ]
  },
  {
   "cell_type": "code",
   "execution_count": 16,
   "metadata": {},
   "outputs": [],
   "source": [
    "Y = selected.case_fatality.values\n",
    "#Y1 = np.nan_to_num(Y)\n",
    "t = selected.drop(dz, 1)\n",
    "X = t.values\n",
    "#X1 = np.nan_to_num(X)\n",
    "colnames = t.columns"
   ]
  },
  {
   "cell_type": "code",
   "execution_count": 17,
   "metadata": {},
   "outputs": [
    {
     "data": {
      "text/plain": [
       "(647, 44)"
      ]
     },
     "execution_count": 17,
     "metadata": {},
     "output_type": "execute_result"
    }
   ],
   "source": [
    "selected.shape"
   ]
  },
  {
   "cell_type": "code",
   "execution_count": 18,
   "metadata": {},
   "outputs": [],
   "source": [
    "# Define dictionary to store our rankings\n",
    "ranks = {}\n",
    "# Create our function which stores the feature rankings to the ranks dictionary\n",
    "def ranking(ranks, names, order=1):\n",
    "    minmax = MinMaxScaler()\n",
    "    ranks = minmax.fit_transform(order*np.array([ranks]).T).T[0]\n",
    "    ranks = map(lambda x: round(x,2), ranks)\n",
    "    return dict(zip(names, ranks))"
   ]
  },
  {
   "cell_type": "code",
   "execution_count": 19,
   "metadata": {},
   "outputs": [
    {
     "name": "stdout",
     "output_type": "stream",
     "text": [
      "Fitting estimator with 33 features.\n",
      "Fitting estimator with 32 features.\n",
      "Fitting estimator with 31 features.\n",
      "Fitting estimator with 30 features.\n",
      "Fitting estimator with 29 features.\n",
      "Fitting estimator with 28 features.\n",
      "Fitting estimator with 27 features.\n",
      "Fitting estimator with 26 features.\n",
      "Fitting estimator with 25 features.\n",
      "Fitting estimator with 24 features.\n",
      "Fitting estimator with 23 features.\n",
      "Fitting estimator with 22 features.\n",
      "Fitting estimator with 21 features.\n",
      "Fitting estimator with 20 features.\n",
      "Fitting estimator with 19 features.\n"
     ]
    }
   ],
   "source": [
    "# Construct our Linear Regression model with Recursice Feature Elimination (RFE)\n",
    "from sklearn.feature_selection import RFE, f_regression\n",
    "lr = LinearRegression(normalize=True)\n",
    "lr.fit(X,Y)\n",
    "#stop the search when only the last feature is left\n",
    "rfe = RFE(lr, n_features_to_select=18, verbose =3 )\n",
    "rfe.fit(X,Y)\n",
    "ranks[\"RFE\"] = ranking(list(map(float, rfe.ranking_)), colnames, order=-1)"
   ]
  },
  {
   "cell_type": "code",
   "execution_count": 20,
   "metadata": {},
   "outputs": [],
   "source": [
    "# Linear Regression\n",
    "from sklearn.preprocessing import MinMaxScaler\n",
    "from sklearn.linear_model import (LinearRegression, Ridge, Lasso)\n",
    "lr = LinearRegression(normalize=True)\n",
    "lr.fit(X,Y)\n",
    "ranks[\"LinReg\"] = ranking(np.abs(lr.coef_), colnames)\n",
    "\n",
    "# Ridge \n",
    "ridge = Ridge(alpha = 7)\n",
    "ridge.fit(X,Y)\n",
    "ranks['Ridge'] = ranking(np.abs(ridge.coef_), colnames)\n",
    "\n",
    "# Lasso\n",
    "lasso = Lasso(alpha= .05)\n",
    "lasso.fit(X,Y)\n",
    "ranks[\"Lasso\"] = ranking(np.abs(lasso.coef_), colnames)"
   ]
  },
  {
   "cell_type": "code",
   "execution_count": 21,
   "metadata": {},
   "outputs": [
    {
     "name": "stdout",
     "output_type": "stream",
     "text": [
      "\tLasso\tLinReg\tRFE\tRidge\tMean\n",
      "Max AQI\t0.0\t0.01\t0.13\t0.04\t0.05\n",
      "Median AQI\t0.0\t0.02\t0.53\t0.08\t0.16\n",
      "WA_MALE\t0.0\t0.86\t1.0\t0.08\t0.48\n",
      "WA_FEMALE\t0.0\t1.0\t1.0\t0.36\t0.59\n",
      "BA_MALE\t0.0\t0.33\t1.0\t0.12\t0.36\n",
      "BA_FEMALE\t0.0\t0.37\t1.0\t0.07\t0.36\n",
      "IA_MALE\t0.0\t0.28\t1.0\t0.31\t0.4\n",
      "IA_FEMALE\t0.0\t0.23\t1.0\t0.09\t0.33\n",
      "AA_MALE\t0.0\t0.04\t0.4\t0.07\t0.13\n",
      "AA_FEMALE\t0.0\t0.14\t1.0\t0.12\t0.32\n",
      "NA_FEMALE\t0.0\t0.11\t1.0\t0.09\t0.3\n",
      "HLTHOUTArthritis\t0.0\t0.04\t0.73\t0.24\t0.25\n",
      "HLTHOUTCancer (except skin)\t0.0\t0.0\t0.0\t0.0\t0.0\n",
      "HLTHOUTChronic Kidney Disease\t0.0\t0.24\t1.0\t0.72\t0.49\n",
      "HLTHOUTCoronary Heart Disease\t0.0\t0.12\t0.93\t0.46\t0.38\n",
      "HLTHOUTCurrent Asthma\t0.52\t0.14\t1.0\t0.59\t0.56\n",
      "HLTHOUTDiabetes\t0.0\t0.28\t1.0\t0.97\t0.56\n",
      "HLTHOUTMental Health\t0.0\t0.06\t0.87\t0.26\t0.3\n",
      "PREVENTAnnual Checkup\t1.0\t0.24\t1.0\t1.0\t0.81\n",
      "PREVENTColorectal Cancer Screening\t0.0\t0.05\t1.0\t0.19\t0.31\n",
      "PREVENTCore preventive services for older men\t0.24\t0.01\t0.07\t0.0\t0.08\n",
      "PREVENTCore preventive services for older women\t0.51\t0.02\t0.33\t0.12\t0.24\n",
      "PREVENTDental Visit\t0.0\t0.04\t0.67\t0.13\t0.21\n",
      "PREVENTHealth Insurance\t0.0\t0.18\t1.0\t0.7\t0.47\n",
      "PREVENTMammography\t0.0\t0.04\t0.8\t0.16\t0.25\n",
      "UNHBEHObesity\t0.0\t0.02\t0.47\t0.09\t0.14\n",
      "UNHBEHPhysical Inactivity\t0.0\t0.01\t0.2\t0.04\t0.06\n",
      "UNHBEHSleep <7 hours\t0.0\t0.03\t0.6\t0.12\t0.19\n",
      "noise_mean\t0.16\t0.01\t0.27\t0.05\t0.12\n",
      "PCTUI_Pov\t0.28\t0.12\t1.0\t0.46\t0.46\n",
      "Pov%\t0.0\t0.09\t1.0\t0.23\t0.33\n",
      "OTHER_MALE\t0.0\t0.76\t1.0\t0.28\t0.51\n",
      "OTHER_FEMALE\t0.0\t0.52\t1.0\t0.14\t0.42\n"
     ]
    }
   ],
   "source": [
    "#Creating the Feature Ranking Matrix\n",
    "\n",
    "# Create empty dictionary to store the mean value calculated from all the scores\n",
    "r = {}\n",
    "for name in colnames:\n",
    "    r[name] = round(np.mean([ranks[method][name] \n",
    "                             for method in ranks.keys()]), 2)\n",
    " \n",
    "methods = sorted(ranks.keys())\n",
    "ranks[\"Mean\"] = r\n",
    "methods.append(\"Mean\")\n",
    "\n",
    "print(\"\\t%s\" % \"\\t\".join(methods))\n",
    "for name in colnames:\n",
    "    print(\"%s\\t%s\" % (name, \"\\t\".join(map(str, \n",
    "                         [ranks[method][name] for method in methods]))))"
   ]
  },
  {
   "cell_type": "code",
   "execution_count": 22,
   "metadata": {},
   "outputs": [],
   "source": [
    "#Put the mean scores into a Pandas dataframe\n",
    "meanplot = pd.DataFrame(list(r.items()), columns= ['Feature','Mean Ranking'])\n",
    "\n",
    "# Sort the dataframe\n",
    "meanplot = meanplot.sort_values('Mean Ranking', ascending=False).reset_index(drop=True)"
   ]
  },
  {
   "cell_type": "code",
   "execution_count": 23,
   "metadata": {
    "scrolled": true
   },
   "outputs": [
    {
     "data": {
      "text/html": [
       "<div>\n",
       "<style scoped>\n",
       "    .dataframe tbody tr th:only-of-type {\n",
       "        vertical-align: middle;\n",
       "    }\n",
       "\n",
       "    .dataframe tbody tr th {\n",
       "        vertical-align: top;\n",
       "    }\n",
       "\n",
       "    .dataframe thead th {\n",
       "        text-align: right;\n",
       "    }\n",
       "</style>\n",
       "<table border=\"1\" class=\"dataframe\">\n",
       "  <thead>\n",
       "    <tr style=\"text-align: right;\">\n",
       "      <th></th>\n",
       "      <th>Feature</th>\n",
       "      <th>Mean Ranking</th>\n",
       "    </tr>\n",
       "  </thead>\n",
       "  <tbody>\n",
       "    <tr>\n",
       "      <th>0</th>\n",
       "      <td>PREVENTAnnual Checkup</td>\n",
       "      <td>0.81</td>\n",
       "    </tr>\n",
       "    <tr>\n",
       "      <th>1</th>\n",
       "      <td>WA_FEMALE</td>\n",
       "      <td>0.59</td>\n",
       "    </tr>\n",
       "    <tr>\n",
       "      <th>2</th>\n",
       "      <td>HLTHOUTDiabetes</td>\n",
       "      <td>0.56</td>\n",
       "    </tr>\n",
       "    <tr>\n",
       "      <th>3</th>\n",
       "      <td>HLTHOUTCurrent Asthma</td>\n",
       "      <td>0.56</td>\n",
       "    </tr>\n",
       "    <tr>\n",
       "      <th>4</th>\n",
       "      <td>OTHER_MALE</td>\n",
       "      <td>0.51</td>\n",
       "    </tr>\n",
       "    <tr>\n",
       "      <th>5</th>\n",
       "      <td>HLTHOUTChronic Kidney Disease</td>\n",
       "      <td>0.49</td>\n",
       "    </tr>\n",
       "    <tr>\n",
       "      <th>6</th>\n",
       "      <td>WA_MALE</td>\n",
       "      <td>0.48</td>\n",
       "    </tr>\n",
       "    <tr>\n",
       "      <th>7</th>\n",
       "      <td>PREVENTHealth Insurance</td>\n",
       "      <td>0.47</td>\n",
       "    </tr>\n",
       "    <tr>\n",
       "      <th>8</th>\n",
       "      <td>PCTUI_Pov</td>\n",
       "      <td>0.46</td>\n",
       "    </tr>\n",
       "    <tr>\n",
       "      <th>9</th>\n",
       "      <td>OTHER_FEMALE</td>\n",
       "      <td>0.42</td>\n",
       "    </tr>\n",
       "    <tr>\n",
       "      <th>10</th>\n",
       "      <td>IA_MALE</td>\n",
       "      <td>0.40</td>\n",
       "    </tr>\n",
       "    <tr>\n",
       "      <th>11</th>\n",
       "      <td>HLTHOUTCoronary Heart Disease</td>\n",
       "      <td>0.38</td>\n",
       "    </tr>\n",
       "    <tr>\n",
       "      <th>12</th>\n",
       "      <td>BA_MALE</td>\n",
       "      <td>0.36</td>\n",
       "    </tr>\n",
       "    <tr>\n",
       "      <th>13</th>\n",
       "      <td>BA_FEMALE</td>\n",
       "      <td>0.36</td>\n",
       "    </tr>\n",
       "    <tr>\n",
       "      <th>14</th>\n",
       "      <td>Pov%</td>\n",
       "      <td>0.33</td>\n",
       "    </tr>\n",
       "    <tr>\n",
       "      <th>15</th>\n",
       "      <td>IA_FEMALE</td>\n",
       "      <td>0.33</td>\n",
       "    </tr>\n",
       "    <tr>\n",
       "      <th>16</th>\n",
       "      <td>AA_FEMALE</td>\n",
       "      <td>0.32</td>\n",
       "    </tr>\n",
       "    <tr>\n",
       "      <th>17</th>\n",
       "      <td>PREVENTColorectal Cancer Screening</td>\n",
       "      <td>0.31</td>\n",
       "    </tr>\n",
       "    <tr>\n",
       "      <th>18</th>\n",
       "      <td>NA_FEMALE</td>\n",
       "      <td>0.30</td>\n",
       "    </tr>\n",
       "    <tr>\n",
       "      <th>19</th>\n",
       "      <td>HLTHOUTMental Health</td>\n",
       "      <td>0.30</td>\n",
       "    </tr>\n",
       "    <tr>\n",
       "      <th>20</th>\n",
       "      <td>PREVENTMammography</td>\n",
       "      <td>0.25</td>\n",
       "    </tr>\n",
       "    <tr>\n",
       "      <th>21</th>\n",
       "      <td>HLTHOUTArthritis</td>\n",
       "      <td>0.25</td>\n",
       "    </tr>\n",
       "    <tr>\n",
       "      <th>22</th>\n",
       "      <td>PREVENTCore preventive services for older women</td>\n",
       "      <td>0.24</td>\n",
       "    </tr>\n",
       "    <tr>\n",
       "      <th>23</th>\n",
       "      <td>PREVENTDental Visit</td>\n",
       "      <td>0.21</td>\n",
       "    </tr>\n",
       "    <tr>\n",
       "      <th>24</th>\n",
       "      <td>UNHBEHSleep &lt;7 hours</td>\n",
       "      <td>0.19</td>\n",
       "    </tr>\n",
       "    <tr>\n",
       "      <th>25</th>\n",
       "      <td>Median AQI</td>\n",
       "      <td>0.16</td>\n",
       "    </tr>\n",
       "    <tr>\n",
       "      <th>26</th>\n",
       "      <td>UNHBEHObesity</td>\n",
       "      <td>0.14</td>\n",
       "    </tr>\n",
       "    <tr>\n",
       "      <th>27</th>\n",
       "      <td>AA_MALE</td>\n",
       "      <td>0.13</td>\n",
       "    </tr>\n",
       "    <tr>\n",
       "      <th>28</th>\n",
       "      <td>noise_mean</td>\n",
       "      <td>0.12</td>\n",
       "    </tr>\n",
       "    <tr>\n",
       "      <th>29</th>\n",
       "      <td>PREVENTCore preventive services for older men</td>\n",
       "      <td>0.08</td>\n",
       "    </tr>\n",
       "    <tr>\n",
       "      <th>30</th>\n",
       "      <td>UNHBEHPhysical Inactivity</td>\n",
       "      <td>0.06</td>\n",
       "    </tr>\n",
       "    <tr>\n",
       "      <th>31</th>\n",
       "      <td>Max AQI</td>\n",
       "      <td>0.05</td>\n",
       "    </tr>\n",
       "    <tr>\n",
       "      <th>32</th>\n",
       "      <td>HLTHOUTCancer (except skin)</td>\n",
       "      <td>0.00</td>\n",
       "    </tr>\n",
       "  </tbody>\n",
       "</table>\n",
       "</div>"
      ],
      "text/plain": [
       "                                            Feature  Mean Ranking\n",
       "0                             PREVENTAnnual Checkup          0.81\n",
       "1                                         WA_FEMALE          0.59\n",
       "2                                   HLTHOUTDiabetes          0.56\n",
       "3                             HLTHOUTCurrent Asthma          0.56\n",
       "4                                        OTHER_MALE          0.51\n",
       "5                     HLTHOUTChronic Kidney Disease          0.49\n",
       "6                                           WA_MALE          0.48\n",
       "7                           PREVENTHealth Insurance          0.47\n",
       "8                                         PCTUI_Pov          0.46\n",
       "9                                      OTHER_FEMALE          0.42\n",
       "10                                          IA_MALE          0.40\n",
       "11                    HLTHOUTCoronary Heart Disease          0.38\n",
       "12                                          BA_MALE          0.36\n",
       "13                                        BA_FEMALE          0.36\n",
       "14                                             Pov%          0.33\n",
       "15                                        IA_FEMALE          0.33\n",
       "16                                        AA_FEMALE          0.32\n",
       "17               PREVENTColorectal Cancer Screening          0.31\n",
       "18                                        NA_FEMALE          0.30\n",
       "19                             HLTHOUTMental Health          0.30\n",
       "20                               PREVENTMammography          0.25\n",
       "21                                 HLTHOUTArthritis          0.25\n",
       "22  PREVENTCore preventive services for older women          0.24\n",
       "23                              PREVENTDental Visit          0.21\n",
       "24                             UNHBEHSleep <7 hours          0.19\n",
       "25                                       Median AQI          0.16\n",
       "26                                    UNHBEHObesity          0.14\n",
       "27                                          AA_MALE          0.13\n",
       "28                                       noise_mean          0.12\n",
       "29    PREVENTCore preventive services for older men          0.08\n",
       "30                        UNHBEHPhysical Inactivity          0.06\n",
       "31                                          Max AQI          0.05\n",
       "32                      HLTHOUTCancer (except skin)          0.00"
      ]
     },
     "metadata": {},
     "output_type": "display_data"
    }
   ],
   "source": [
    "with pd.option_context('display.max_rows', None, 'display.max_columns', None):  # more options can be specified also\n",
    "    display(meanplot)"
   ]
  },
  {
   "cell_type": "code",
   "execution_count": 48,
   "metadata": {},
   "outputs": [
    {
     "data": {
      "text/plain": [
       "array(['PREVENTAnnual Checkup', 'WA_FEMALE', 'HLTHOUTDiabetes',\n",
       "       'HLTHOUTCurrent Asthma', 'OTHER_MALE',\n",
       "       'HLTHOUTChronic Kidney Disease', 'WA_MALE',\n",
       "       'PREVENTHealth Insurance', 'PCTUI_Pov', 'OTHER_FEMALE', 'IA_MALE',\n",
       "       'HLTHOUTCoronary Heart Disease', 'BA_MALE', 'BA_FEMALE', 'Pov%',\n",
       "       'IA_FEMALE', 'AA_FEMALE', 'PREVENTColorectal Cancer Screening',\n",
       "       'NA_FEMALE', 'HLTHOUTMental Health', 'PREVENTMammography',\n",
       "       'HLTHOUTArthritis',\n",
       "       'PREVENTCore preventive services for older women',\n",
       "       'PREVENTDental Visit', 'UNHBEHSleep <7 hours', 'Median AQI',\n",
       "       'UNHBEHObesity', 'AA_MALE', 'noise_mean',\n",
       "       'PREVENTCore preventive services for older men',\n",
       "       'UNHBEHPhysical Inactivity', 'Max AQI',\n",
       "       'HLTHOUTCancer (except skin)'], dtype=object)"
      ]
     },
     "execution_count": 48,
     "metadata": {},
     "output_type": "execute_result"
    }
   ],
   "source": [
    "meanplot['Feature'].unique()"
   ]
  },
  {
   "cell_type": "code",
   "execution_count": 24,
   "metadata": {},
   "outputs": [],
   "source": [
    "std = preprocessing.StandardScaler()\n",
    "# X is a matrix\n",
    "std.fit(X)\n",
    "X_std = std.transform(X)"
   ]
  },
  {
   "cell_type": "code",
   "execution_count": 25,
   "metadata": {},
   "outputs": [],
   "source": [
    "#scale data\n",
    "minmax = preprocessing.MinMaxScaler()\n",
    "minmax.fit(X)\n",
    "X_minmax = minmax.transform(X)"
   ]
  },
  {
   "cell_type": "code",
   "execution_count": 26,
   "metadata": {},
   "outputs": [],
   "source": [
    "#divide data into train and test sets\n",
    "train_x, test_x, train_y, test_y = train_test_split(X_minmax, Y,\n",
    "                                                    test_size=0.25,\n",
    "                                                    random_state=50)\n",
    "#maybe bump up the test_size to 70/30 etc...\n",
    "#look at r2 and mse and the coefficient"
   ]
  },
  {
   "cell_type": "code",
   "execution_count": 27,
   "metadata": {},
   "outputs": [],
   "source": [
    "from sklearn.linear_model import LinearRegression"
   ]
  },
  {
   "cell_type": "code",
   "execution_count": 28,
   "metadata": {},
   "outputs": [],
   "source": [
    "#linear model\n",
    "lr = LinearRegression()"
   ]
  },
  {
   "cell_type": "code",
   "execution_count": 29,
   "metadata": {},
   "outputs": [
    {
     "data": {
      "text/plain": [
       "LinearRegression(copy_X=True, fit_intercept=True, n_jobs=None,\n",
       "         normalize=False)"
      ]
     },
     "execution_count": 29,
     "metadata": {},
     "output_type": "execute_result"
    }
   ],
   "source": [
    "#fit model to data\n",
    "lr.fit(train_x, train_y)"
   ]
  },
  {
   "cell_type": "code",
   "execution_count": 30,
   "metadata": {},
   "outputs": [],
   "source": [
    "pred_y = lr.predict(test_x)"
   ]
  },
  {
   "cell_type": "code",
   "execution_count": 31,
   "metadata": {},
   "outputs": [
    {
     "name": "stdout",
     "output_type": "stream",
     "text": [
      "Mean Squared Error 0.8533892275685345\n"
     ]
    }
   ],
   "source": [
    "#calculate mean squared error, results looks like a lot of overfitting\n",
    "mse = metrics.mean_squared_error(test_y, pred_y)\n",
    "print(\"Mean Squared Error {}\".format(mse))"
   ]
  },
  {
   "cell_type": "code",
   "execution_count": 32,
   "metadata": {},
   "outputs": [
    {
     "data": {
      "text/plain": [
       "162"
      ]
     },
     "execution_count": 32,
     "metadata": {},
     "output_type": "execute_result"
    }
   ],
   "source": [
    "len(pred_y)"
   ]
  },
  {
   "cell_type": "code",
   "execution_count": 33,
   "metadata": {},
   "outputs": [
    {
     "name": "stdout",
     "output_type": "stream",
     "text": [
      "Accuracy: 0.765 (0.039)\n"
     ]
    }
   ],
   "source": [
    "from numpy import mean\n",
    "from numpy import std\n",
    "from sklearn.datasets import make_classification\n",
    "from sklearn.model_selection import cross_val_score\n",
    "from sklearn.model_selection import RepeatedStratifiedKFold\n",
    "from sklearn.feature_selection import RFECV\n",
    "from sklearn.tree import DecisionTreeClassifier\n",
    "from sklearn.pipeline import Pipeline\n",
    "# define dataset\n",
    "X, y = make_classification(n_samples=1000, n_features=33, n_informative=18, n_redundant=5, random_state=1)\n",
    "# create pipeline\n",
    "rfe = RFECV(estimator=DecisionTreeClassifier())\n",
    "model = DecisionTreeClassifier()\n",
    "pipeline = Pipeline(steps=[('s',rfe),('m',model)])\n",
    "# evaluate model\n",
    "cv = RepeatedStratifiedKFold(n_splits=10, n_repeats=3, random_state=1)\n",
    "n_scores = cross_val_score(pipeline, X, y, scoring='accuracy', cv=cv, n_jobs=-1, error_score='raise')\n",
    "# report performance\n",
    "print('Accuracy: %.3f (%.3f)' % (mean(n_scores), std(n_scores)))\n"
   ]
  },
  {
   "cell_type": "code",
   "execution_count": 34,
   "metadata": {},
   "outputs": [
    {
     "name": "stdout",
     "output_type": "stream",
     "text": [
      "Column: 0, Selected False, Rank: 3.000\n",
      "Column: 1, Selected False, Rank: 12.000\n",
      "Column: 2, Selected True, Rank: 1.000\n",
      "Column: 3, Selected False, Rank: 5.000\n",
      "Column: 4, Selected False, Rank: 4.000\n",
      "Column: 5, Selected False, Rank: 6.000\n",
      "Column: 6, Selected False, Rank: 13.000\n",
      "Column: 7, Selected False, Rank: 8.000\n",
      "Column: 8, Selected False, Rank: 11.000\n",
      "Column: 9, Selected True, Rank: 1.000\n",
      "Column: 10, Selected False, Rank: 7.000\n",
      "Column: 11, Selected True, Rank: 1.000\n",
      "Column: 12, Selected False, Rank: 14.000\n",
      "Column: 13, Selected True, Rank: 1.000\n",
      "Column: 14, Selected True, Rank: 1.000\n",
      "Column: 15, Selected False, Rank: 15.000\n",
      "Column: 16, Selected True, Rank: 1.000\n",
      "Column: 17, Selected True, Rank: 1.000\n",
      "Column: 18, Selected True, Rank: 1.000\n",
      "Column: 19, Selected True, Rank: 1.000\n",
      "Column: 20, Selected False, Rank: 16.000\n",
      "Column: 21, Selected True, Rank: 1.000\n",
      "Column: 22, Selected True, Rank: 1.000\n",
      "Column: 23, Selected True, Rank: 1.000\n",
      "Column: 24, Selected True, Rank: 1.000\n",
      "Column: 25, Selected False, Rank: 9.000\n",
      "Column: 26, Selected True, Rank: 1.000\n",
      "Column: 27, Selected True, Rank: 1.000\n",
      "Column: 28, Selected False, Rank: 10.000\n",
      "Column: 29, Selected True, Rank: 1.000\n",
      "Column: 30, Selected False, Rank: 2.000\n",
      "Column: 31, Selected True, Rank: 1.000\n",
      "Column: 32, Selected True, Rank: 1.000\n"
     ]
    }
   ],
   "source": [
    "# report which features were selected by RFE\n",
    "from sklearn.datasets import make_classification\n",
    "from sklearn.feature_selection import RFE\n",
    "from sklearn.tree import DecisionTreeClassifier\n",
    "# define dataset\n",
    "\n",
    "# define RFE\n",
    "rfe = RFE(estimator=DecisionTreeClassifier(), n_features_to_select=18)\n",
    "# fit RFE\n",
    "rfe.fit(X, y)\n",
    "# summarize all features\n",
    "for i in range(X.shape[1]):\n",
    "\tprint('Column: %d, Selected %s, Rank: %.3f' % (i, rfe.support_[i], rfe.ranking_[i]))"
   ]
  },
  {
   "cell_type": "code",
   "execution_count": 35,
   "metadata": {},
   "outputs": [],
   "source": [
    "#>>> selector.ranking_"
   ]
  },
  {
   "cell_type": "code",
   "execution_count": 36,
   "metadata": {},
   "outputs": [
    {
     "name": "stdout",
     "output_type": "stream",
     "text": [
      "Automatically created module for IPython interactive environment\n",
      "Optimal number of features : 22\n"
     ]
    },
    {
     "data": {
      "image/png": "[encoded data removed]",
      "text/plain": [
       "<Figure size 432x288 with 1 Axes>"
      ]
     },
     "metadata": {
      "needs_background": "light"
     },
     "output_type": "display_data"
    }
   ],
   "source": [
    "print(__doc__)\n",
    "\n",
    "import matplotlib.pyplot as plt\n",
    "from sklearn.svm import SVC\n",
    "from sklearn.model_selection import StratifiedKFold\n",
    "from sklearn.feature_selection import RFECV\n",
    "from sklearn.datasets import make_classification\n",
    "\n",
    "# Build a classification task using 3 informative features\n",
    "X, y = make_classification(n_samples=1000, n_features=33, n_informative=18,\n",
    "                           n_redundant=0, n_repeated=0, n_classes=2,\n",
    "                           n_clusters_per_class=1, random_state=0)\n",
    "\n",
    "# Create the RFE object and compute a cross-validated score.\n",
    "svc = SVC(kernel=\"linear\")\n",
    "# The \"accuracy\" scoring is proportional to the number of correct\n",
    "# classifications\n",
    "\n",
    "min_features_to_select = 1  # Minimum number of features to consider\n",
    "rfecv = RFECV(estimator=svc, step=1, cv=StratifiedKFold(2),\n",
    "              scoring='accuracy',\n",
    "              min_features_to_select=min_features_to_select)\n",
    "rfecv.fit(X, y)\n",
    "\n",
    "print(\"Optimal number of features : %d\" % rfecv.n_features_)\n",
    "\n",
    "# Plot number of features VS. cross-validation scores\n",
    "plt.figure()\n",
    "plt.xlabel(\"Number of features selected\")\n",
    "plt.ylabel(\"Cross validation score (nb of correct classifications)\")\n",
    "plt.plot(range(min_features_to_select,\n",
    "               len(rfecv.grid_scores_) + min_features_to_select),\n",
    "         rfecv.grid_scores_)\n",
    "plt.show()\n"
   ]
  },
  {
   "cell_type": "code",
   "execution_count": 37,
   "metadata": {},
   "outputs": [
    {
     "name": "stdout",
     "output_type": "stream",
     "text": [
      "Printing RFECV results:\n",
      "1. Number of features: 22; Grid_Score: 0.926024\n",
      "2. Number of features: 18; Grid_Score: 0.924008\n",
      "3. Number of features: 21; Grid_Score: 0.923002\n",
      "4. Number of features: 20; Grid_Score: 0.922998\n",
      "5. Number of features: 24; Grid_Score: 0.922000\n",
      "6. Number of features: 23; Grid_Score: 0.922000\n",
      "7. Number of features: 19; Grid_Score: 0.921014\n",
      "8. Number of features: 25; Grid_Score: 0.921002\n",
      "9. Number of features: 30; Grid_Score: 0.920998\n",
      "10. Number of features: 32; Grid_Score: 0.919006\n",
      "11. Number of features: 29; Grid_Score: 0.918998\n",
      "12. Number of features: 16; Grid_Score: 0.918016\n",
      "13. Number of features: 31; Grid_Score: 0.918004\n",
      "14. Number of features: 28; Grid_Score: 0.917006\n",
      "15. Number of features: 27; Grid_Score: 0.917006\n",
      "16. Number of features: 15; Grid_Score: 0.916020\n",
      "17. Number of features: 14; Grid_Score: 0.916000\n",
      "18. Number of features: 26; Grid_Score: 0.916000\n",
      "19. Number of features: 17; Grid_Score: 0.914016\n",
      "20. Number of features: 33; Grid_Score: 0.913006\n",
      "21. Number of features: 10; Grid_Score: 0.912024\n",
      "22. Number of features: 12; Grid_Score: 0.910020\n",
      "23. Number of features: 13; Grid_Score: 0.910008\n",
      "24. Number of features: 11; Grid_Score: 0.907026\n",
      "25. Number of features: 9; Grid_Score: 0.894994\n",
      "26. Number of features: 8; Grid_Score: 0.893006\n",
      "27. Number of features: 7; Grid_Score: 0.871005\n",
      "28. Number of features: 6; Grid_Score: 0.859013\n",
      "29. Number of features: 5; Grid_Score: 0.838039\n",
      "30. Number of features: 4; Grid_Score: 0.796071\n",
      "31. Number of features: 3; Grid_Score: 0.759097\n",
      "32. Number of features: 2; Grid_Score: 0.720055\n",
      "33. Number of features: 1; Grid_Score: 0.668019\n"
     ]
    }
   ],
   "source": [
    "\n",
    "import numpy as np\n",
    "g_scores = rfecv.grid_scores_\n",
    "indices = np.argsort(g_scores)[::-1]\n",
    "print('Printing RFECV results:')\n",
    "for f in range(X.shape[1]):\n",
    "    print(\"%d. Number of features: %d; Grid_Score: %f\" % (f + 1, indices[f]+1, g_scores[indices[f]]))"
   ]
  },
  {
   "cell_type": "code",
   "execution_count": null,
   "metadata": {},
   "outputs": [],
   "source": []
  },
  {
   "cell_type": "code",
   "execution_count": 38,
   "metadata": {},
   "outputs": [
    {
     "data": {
      "text/html": [
       "<div>\n",
       "<style scoped>\n",
       "    .dataframe tbody tr th:only-of-type {\n",
       "        vertical-align: middle;\n",
       "    }\n",
       "\n",
       "    .dataframe tbody tr th {\n",
       "        vertical-align: top;\n",
       "    }\n",
       "\n",
       "    .dataframe thead th {\n",
       "        text-align: right;\n",
       "    }\n",
       "</style>\n",
       "<table border=\"1\" class=\"dataframe\">\n",
       "  <thead>\n",
       "    <tr style=\"text-align: right;\">\n",
       "      <th></th>\n",
       "      <th>Rank</th>\n",
       "    </tr>\n",
       "  </thead>\n",
       "  <tbody>\n",
       "    <tr>\n",
       "      <th>OTHER_FEMALE</th>\n",
       "      <td>1</td>\n",
       "    </tr>\n",
       "    <tr>\n",
       "      <th>PREVENTCore preventive services for older men</th>\n",
       "      <td>1</td>\n",
       "    </tr>\n",
       "    <tr>\n",
       "      <th>UNHBEHObesity</th>\n",
       "      <td>1</td>\n",
       "    </tr>\n",
       "    <tr>\n",
       "      <th>PREVENTAnnual Checkup</th>\n",
       "      <td>1</td>\n",
       "    </tr>\n",
       "    <tr>\n",
       "      <th>HLTHOUTMental Health</th>\n",
       "      <td>1</td>\n",
       "    </tr>\n",
       "    <tr>\n",
       "      <th>UNHBEHPhysical Inactivity</th>\n",
       "      <td>1</td>\n",
       "    </tr>\n",
       "    <tr>\n",
       "      <th>HLTHOUTCurrent Asthma</th>\n",
       "      <td>1</td>\n",
       "    </tr>\n",
       "    <tr>\n",
       "      <th>UNHBEHSleep &lt;7 hours</th>\n",
       "      <td>1</td>\n",
       "    </tr>\n",
       "    <tr>\n",
       "      <th>HLTHOUTChronic Kidney Disease</th>\n",
       "      <td>1</td>\n",
       "    </tr>\n",
       "    <tr>\n",
       "      <th>HLTHOUTCancer (except skin)</th>\n",
       "      <td>1</td>\n",
       "    </tr>\n",
       "    <tr>\n",
       "      <th>PREVENTMammography</th>\n",
       "      <td>1</td>\n",
       "    </tr>\n",
       "    <tr>\n",
       "      <th>HLTHOUTArthritis</th>\n",
       "      <td>1</td>\n",
       "    </tr>\n",
       "    <tr>\n",
       "      <th>PCTUI_Pov</th>\n",
       "      <td>1</td>\n",
       "    </tr>\n",
       "    <tr>\n",
       "      <th>Pov%</th>\n",
       "      <td>1</td>\n",
       "    </tr>\n",
       "    <tr>\n",
       "      <th>IA_MALE</th>\n",
       "      <td>1</td>\n",
       "    </tr>\n",
       "    <tr>\n",
       "      <th>BA_FEMALE</th>\n",
       "      <td>1</td>\n",
       "    </tr>\n",
       "    <tr>\n",
       "      <th>BA_MALE</th>\n",
       "      <td>1</td>\n",
       "    </tr>\n",
       "    <tr>\n",
       "      <th>WA_FEMALE</th>\n",
       "      <td>1</td>\n",
       "    </tr>\n",
       "    <tr>\n",
       "      <th>WA_MALE</th>\n",
       "      <td>1</td>\n",
       "    </tr>\n",
       "    <tr>\n",
       "      <th>Median AQI</th>\n",
       "      <td>1</td>\n",
       "    </tr>\n",
       "    <tr>\n",
       "      <th>NA_FEMALE</th>\n",
       "      <td>1</td>\n",
       "    </tr>\n",
       "    <tr>\n",
       "      <th>PREVENTDental Visit</th>\n",
       "      <td>1</td>\n",
       "    </tr>\n",
       "    <tr>\n",
       "      <th>AA_MALE</th>\n",
       "      <td>2</td>\n",
       "    </tr>\n",
       "    <tr>\n",
       "      <th>Max AQI</th>\n",
       "      <td>3</td>\n",
       "    </tr>\n",
       "    <tr>\n",
       "      <th>HLTHOUTDiabetes</th>\n",
       "      <td>4</td>\n",
       "    </tr>\n",
       "    <tr>\n",
       "      <th>IA_FEMALE</th>\n",
       "      <td>5</td>\n",
       "    </tr>\n",
       "    <tr>\n",
       "      <th>HLTHOUTCoronary Heart Disease</th>\n",
       "      <td>6</td>\n",
       "    </tr>\n",
       "    <tr>\n",
       "      <th>PREVENTColorectal Cancer Screening</th>\n",
       "      <td>7</td>\n",
       "    </tr>\n",
       "    <tr>\n",
       "      <th>PREVENTHealth Insurance</th>\n",
       "      <td>8</td>\n",
       "    </tr>\n",
       "    <tr>\n",
       "      <th>PREVENTCore preventive services for older women</th>\n",
       "      <td>9</td>\n",
       "    </tr>\n",
       "    <tr>\n",
       "      <th>OTHER_MALE</th>\n",
       "      <td>10</td>\n",
       "    </tr>\n",
       "    <tr>\n",
       "      <th>AA_FEMALE</th>\n",
       "      <td>11</td>\n",
       "    </tr>\n",
       "    <tr>\n",
       "      <th>noise_mean</th>\n",
       "      <td>12</td>\n",
       "    </tr>\n",
       "  </tbody>\n",
       "</table>\n",
       "</div>"
      ],
      "text/plain": [
       "                                                 Rank\n",
       "OTHER_FEMALE                                        1\n",
       "PREVENTCore preventive services for older men       1\n",
       "UNHBEHObesity                                       1\n",
       "PREVENTAnnual Checkup                               1\n",
       "HLTHOUTMental Health                                1\n",
       "UNHBEHPhysical Inactivity                           1\n",
       "HLTHOUTCurrent Asthma                               1\n",
       "UNHBEHSleep <7 hours                                1\n",
       "HLTHOUTChronic Kidney Disease                       1\n",
       "HLTHOUTCancer (except skin)                         1\n",
       "PREVENTMammography                                  1\n",
       "HLTHOUTArthritis                                    1\n",
       "PCTUI_Pov                                           1\n",
       "Pov%                                                1\n",
       "IA_MALE                                             1\n",
       "BA_FEMALE                                           1\n",
       "BA_MALE                                             1\n",
       "WA_FEMALE                                           1\n",
       "WA_MALE                                             1\n",
       "Median AQI                                          1\n",
       "NA_FEMALE                                           1\n",
       "PREVENTDental Visit                                 1\n",
       "AA_MALE                                             2\n",
       "Max AQI                                             3\n",
       "HLTHOUTDiabetes                                     4\n",
       "IA_FEMALE                                           5\n",
       "HLTHOUTCoronary Heart Disease                       6\n",
       "PREVENTColorectal Cancer Screening                  7\n",
       "PREVENTHealth Insurance                             8\n",
       "PREVENTCore preventive services for older women     9\n",
       "OTHER_MALE                                         10\n",
       "AA_FEMALE                                          11\n",
       "noise_mean                                         12"
      ]
     },
     "metadata": {},
     "output_type": "display_data"
    }
   ],
   "source": [
    "rfecv.support_\n",
    "rfecv_df = pd.DataFrame(rfecv.ranking_,index =t.columns, columns=['Rank']).sort_values(by='Rank',ascending=True)\n",
    "display (rfecv_df)"
   ]
  },
  {
   "cell_type": "markdown",
   "metadata": {},
   "source": [
    "## After first RFE with all features,  Accuracy: 0.766 (0.034). Recommended ideal number of features (16). Last 3 Binge Drinking, HLTHOUTPhysical Health, Teeth Loss. Dropping the 3 for the second RFE.\n",
    "\n",
    "## After 2nd RFE with 40 features, Accuracy: 0.766 (0.058). Last 3, HLTHOUTStroke, BED_UTILIZATION, PREVENTCervical Cancer Screening, Dropping the 3 for third RFE\n",
    "\n",
    "## After 3rd RFE with 37 features, Accuracy: 0.770 (0.035), Last 3 90th Percentile AQI, UNHBeh Current Smoking, HLTHOUTCOPD, Dropping the 3 for 4th RFE\n",
    "\n",
    "## After 4th RFE with 34 features, Accuracy: 0.775 (0.039), Last 3 PREVENTCCancerScreening, NA_MALE, HLTHOUT_Arthritis, dropping the 3 for the 5th RFE\n",
    "\n",
    "## After 5th RFE with 31 features, Accuracy: 0.766 (0.043), adding back NA_MALE for the 6th RFE \n",
    "\n",
    "## After 6th RFE with 32 features, Accuracy: 0.782 (0.042), adding back HLTHOUT_Arthritis for 7th RFE Accuracy: 0.755 (0.051), swapped in CC Screening with HLTH_Arthritis, Accuracy: 8th RFE 0.752 (0.038). Removing last two for 9th RFE\n"
   ]
  },
  {
   "cell_type": "code",
   "execution_count": 39,
   "metadata": {},
   "outputs": [
    {
     "data": {
      "text/plain": [
       "array([ 3,  1,  1,  1,  1,  1,  1,  5,  2, 11,  1,  1,  1,  1,  6,  1,  4,\n",
       "        1,  1,  7,  1,  9,  1,  8,  1,  1,  1,  1, 12,  1,  1, 10,  1])"
      ]
     },
     "execution_count": 39,
     "metadata": {},
     "output_type": "execute_result"
    }
   ],
   "source": [
    "rfecv.ranking_"
   ]
  },
  {
   "cell_type": "code",
   "execution_count": 40,
   "metadata": {},
   "outputs": [
    {
     "data": {
      "text/html": [
       "<div>\n",
       "<style scoped>\n",
       "    .dataframe tbody tr th:only-of-type {\n",
       "        vertical-align: middle;\n",
       "    }\n",
       "\n",
       "    .dataframe tbody tr th {\n",
       "        vertical-align: top;\n",
       "    }\n",
       "\n",
       "    .dataframe thead th {\n",
       "        text-align: right;\n",
       "    }\n",
       "</style>\n",
       "<table border=\"1\" class=\"dataframe\">\n",
       "  <thead>\n",
       "    <tr style=\"text-align: right;\">\n",
       "      <th></th>\n",
       "      <th>Rank</th>\n",
       "    </tr>\n",
       "  </thead>\n",
       "  <tbody>\n",
       "    <tr>\n",
       "      <th>Max AQI</th>\n",
       "      <td>False</td>\n",
       "    </tr>\n",
       "    <tr>\n",
       "      <th>Median AQI</th>\n",
       "      <td>False</td>\n",
       "    </tr>\n",
       "    <tr>\n",
       "      <th>WA_MALE</th>\n",
       "      <td>True</td>\n",
       "    </tr>\n",
       "    <tr>\n",
       "      <th>WA_FEMALE</th>\n",
       "      <td>False</td>\n",
       "    </tr>\n",
       "    <tr>\n",
       "      <th>BA_MALE</th>\n",
       "      <td>False</td>\n",
       "    </tr>\n",
       "    <tr>\n",
       "      <th>BA_FEMALE</th>\n",
       "      <td>False</td>\n",
       "    </tr>\n",
       "    <tr>\n",
       "      <th>IA_MALE</th>\n",
       "      <td>False</td>\n",
       "    </tr>\n",
       "    <tr>\n",
       "      <th>IA_FEMALE</th>\n",
       "      <td>False</td>\n",
       "    </tr>\n",
       "    <tr>\n",
       "      <th>AA_MALE</th>\n",
       "      <td>False</td>\n",
       "    </tr>\n",
       "    <tr>\n",
       "      <th>AA_FEMALE</th>\n",
       "      <td>True</td>\n",
       "    </tr>\n",
       "    <tr>\n",
       "      <th>NA_FEMALE</th>\n",
       "      <td>False</td>\n",
       "    </tr>\n",
       "    <tr>\n",
       "      <th>HLTHOUTArthritis</th>\n",
       "      <td>True</td>\n",
       "    </tr>\n",
       "    <tr>\n",
       "      <th>HLTHOUTCancer (except skin)</th>\n",
       "      <td>False</td>\n",
       "    </tr>\n",
       "    <tr>\n",
       "      <th>HLTHOUTChronic Kidney Disease</th>\n",
       "      <td>True</td>\n",
       "    </tr>\n",
       "    <tr>\n",
       "      <th>HLTHOUTCoronary Heart Disease</th>\n",
       "      <td>True</td>\n",
       "    </tr>\n",
       "    <tr>\n",
       "      <th>HLTHOUTCurrent Asthma</th>\n",
       "      <td>False</td>\n",
       "    </tr>\n",
       "    <tr>\n",
       "      <th>HLTHOUTDiabetes</th>\n",
       "      <td>True</td>\n",
       "    </tr>\n",
       "    <tr>\n",
       "      <th>HLTHOUTMental Health</th>\n",
       "      <td>True</td>\n",
       "    </tr>\n",
       "    <tr>\n",
       "      <th>PREVENTAnnual Checkup</th>\n",
       "      <td>True</td>\n",
       "    </tr>\n",
       "    <tr>\n",
       "      <th>PREVENTColorectal Cancer Screening</th>\n",
       "      <td>True</td>\n",
       "    </tr>\n",
       "    <tr>\n",
       "      <th>PREVENTCore preventive services for older men</th>\n",
       "      <td>False</td>\n",
       "    </tr>\n",
       "    <tr>\n",
       "      <th>PREVENTCore preventive services for older women</th>\n",
       "      <td>True</td>\n",
       "    </tr>\n",
       "    <tr>\n",
       "      <th>PREVENTDental Visit</th>\n",
       "      <td>True</td>\n",
       "    </tr>\n",
       "    <tr>\n",
       "      <th>PREVENTHealth Insurance</th>\n",
       "      <td>True</td>\n",
       "    </tr>\n",
       "    <tr>\n",
       "      <th>PREVENTMammography</th>\n",
       "      <td>True</td>\n",
       "    </tr>\n",
       "    <tr>\n",
       "      <th>UNHBEHObesity</th>\n",
       "      <td>False</td>\n",
       "    </tr>\n",
       "    <tr>\n",
       "      <th>UNHBEHPhysical Inactivity</th>\n",
       "      <td>True</td>\n",
       "    </tr>\n",
       "    <tr>\n",
       "      <th>UNHBEHSleep &lt;7 hours</th>\n",
       "      <td>True</td>\n",
       "    </tr>\n",
       "    <tr>\n",
       "      <th>noise_mean</th>\n",
       "      <td>False</td>\n",
       "    </tr>\n",
       "    <tr>\n",
       "      <th>PCTUI_Pov</th>\n",
       "      <td>True</td>\n",
       "    </tr>\n",
       "    <tr>\n",
       "      <th>Pov%</th>\n",
       "      <td>False</td>\n",
       "    </tr>\n",
       "    <tr>\n",
       "      <th>OTHER_MALE</th>\n",
       "      <td>True</td>\n",
       "    </tr>\n",
       "    <tr>\n",
       "      <th>OTHER_FEMALE</th>\n",
       "      <td>True</td>\n",
       "    </tr>\n",
       "  </tbody>\n",
       "</table>\n",
       "</div>"
      ],
      "text/plain": [
       "                                                  Rank\n",
       "Max AQI                                          False\n",
       "Median AQI                                       False\n",
       "WA_MALE                                           True\n",
       "WA_FEMALE                                        False\n",
       "BA_MALE                                          False\n",
       "BA_FEMALE                                        False\n",
       "IA_MALE                                          False\n",
       "IA_FEMALE                                        False\n",
       "AA_MALE                                          False\n",
       "AA_FEMALE                                         True\n",
       "NA_FEMALE                                        False\n",
       "HLTHOUTArthritis                                  True\n",
       "HLTHOUTCancer (except skin)                      False\n",
       "HLTHOUTChronic Kidney Disease                     True\n",
       "HLTHOUTCoronary Heart Disease                     True\n",
       "HLTHOUTCurrent Asthma                            False\n",
       "HLTHOUTDiabetes                                   True\n",
       "HLTHOUTMental Health                              True\n",
       "PREVENTAnnual Checkup                             True\n",
       "PREVENTColorectal Cancer Screening                True\n",
       "PREVENTCore preventive services for older men    False\n",
       "PREVENTCore preventive services for older women   True\n",
       "PREVENTDental Visit                               True\n",
       "PREVENTHealth Insurance                           True\n",
       "PREVENTMammography                                True\n",
       "UNHBEHObesity                                    False\n",
       "UNHBEHPhysical Inactivity                         True\n",
       "UNHBEHSleep <7 hours                              True\n",
       "noise_mean                                       False\n",
       "PCTUI_Pov                                         True\n",
       "Pov%                                             False\n",
       "OTHER_MALE                                        True\n",
       "OTHER_FEMALE                                      True"
      ]
     },
     "execution_count": 40,
     "metadata": {},
     "output_type": "execute_result"
    }
   ],
   "source": [
    "pd.DataFrame(rfe.support_,index=t.columns,columns=['Rank'])"
   ]
  },
  {
   "cell_type": "code",
   "execution_count": 41,
   "metadata": {},
   "outputs": [
    {
     "data": {
      "text/plain": [
       "array([[ 0.48984789,  0.23366085,  0.21114823,  0.81351014,  0.39700024,\n",
       "         0.14550747,  0.13501407,  0.42706907,  0.70445684,  0.23299916,\n",
       "         0.1567834 ,  0.15820371,  0.15724095,  0.31969492,  0.45860509,\n",
       "         0.40865095,  0.16855118,  0.16230314,  0.25773996,  0.72491966,\n",
       "         0.4029377 ,  0.38903623]])"
      ]
     },
     "execution_count": 41,
     "metadata": {},
     "output_type": "execute_result"
    }
   ],
   "source": [
    "np.absolute(rfecv.estimator_.coef_)"
   ]
  },
  {
   "cell_type": "code",
   "execution_count": 42,
   "metadata": {
    "scrolled": true
   },
   "outputs": [
    {
     "name": "stdout",
     "output_type": "stream",
     "text": [
      "Column: 0, Selected False, Rank: 3.000\n",
      "Column: 1, Selected False, Rank: 12.000\n",
      "Column: 2, Selected True, Rank: 1.000\n",
      "Column: 3, Selected False, Rank: 5.000\n",
      "Column: 4, Selected False, Rank: 4.000\n",
      "Column: 5, Selected False, Rank: 6.000\n",
      "Column: 6, Selected False, Rank: 13.000\n",
      "Column: 7, Selected False, Rank: 8.000\n",
      "Column: 8, Selected False, Rank: 11.000\n",
      "Column: 9, Selected True, Rank: 1.000\n",
      "Column: 10, Selected False, Rank: 7.000\n",
      "Column: 11, Selected True, Rank: 1.000\n",
      "Column: 12, Selected False, Rank: 14.000\n",
      "Column: 13, Selected True, Rank: 1.000\n",
      "Column: 14, Selected True, Rank: 1.000\n",
      "Column: 15, Selected False, Rank: 15.000\n",
      "Column: 16, Selected True, Rank: 1.000\n",
      "Column: 17, Selected True, Rank: 1.000\n",
      "Column: 18, Selected True, Rank: 1.000\n",
      "Column: 19, Selected True, Rank: 1.000\n",
      "Column: 20, Selected False, Rank: 16.000\n",
      "Column: 21, Selected True, Rank: 1.000\n",
      "Column: 22, Selected True, Rank: 1.000\n",
      "Column: 23, Selected True, Rank: 1.000\n",
      "Column: 24, Selected True, Rank: 1.000\n",
      "Column: 25, Selected False, Rank: 9.000\n",
      "Column: 26, Selected True, Rank: 1.000\n",
      "Column: 27, Selected True, Rank: 1.000\n",
      "Column: 28, Selected False, Rank: 10.000\n",
      "Column: 29, Selected True, Rank: 1.000\n",
      "Column: 30, Selected False, Rank: 2.000\n",
      "Column: 31, Selected True, Rank: 1.000\n",
      "Column: 32, Selected True, Rank: 1.000\n"
     ]
    }
   ],
   "source": [
    "# summarize all features\n",
    "with pd.option_context('display.max_rows', None, 'display.max_columns', None):  # more options can be specified also\n",
    "\n",
    "    for i in range(X.shape[1]):\n",
    "        print('Column: %d, Selected %s, Rank: %.3f' % (i, rfe.support_[i], rfe.ranking_[i]))"
   ]
  }
 ],
 "metadata": {
  "kernelspec": {
   "display_name": "Python 3",
   "language": "python",
   "name": "python3"
  },
  "language_info": {
   "codemirror_mode": {
    "name": "ipython",
    "version": 3
   },
   "file_extension": ".py",
   "mimetype": "text/x-python",
   "name": "python",
   "nbconvert_exporter": "python",
   "pygments_lexer": "ipython3",
   "version": "3.8.5"
  }
 },
 "nbformat": 4,
 "nbformat_minor": 2
}
